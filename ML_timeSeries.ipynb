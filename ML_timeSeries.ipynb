{
 "cells": [
  {
   "cell_type": "markdown",
   "metadata": {},
   "source": [
    "Try to predict using time series classification (original time column), target = binary value (happened /did not happen)\n",
    "\n",
    "https://towardsdatascience.com/ml-approaches-for-time-series-4d44722e48fe"
   ]
  }
 ],
 "metadata": {
  "language_info": {
   "name": "python"
  },
  "orig_nbformat": 4
 },
 "nbformat": 4,
 "nbformat_minor": 2
}
