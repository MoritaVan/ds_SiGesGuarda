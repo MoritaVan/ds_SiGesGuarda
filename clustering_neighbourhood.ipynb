{
 "cells": [
  {
   "cell_type": "markdown",
   "metadata": {},
   "source": [
    "# Clustering by neighbourhood\n",
    "\n",
    "Objecive: find which problems are more common in each neighbourhood"
   ]
  },
  {
   "cell_type": "code",
   "execution_count": null,
   "metadata": {},
   "outputs": [],
   "source": []
  },
  {
   "cell_type": "code",
   "execution_count": 65,
   "metadata": {},
   "outputs": [],
   "source": [
    "import pandas as pd\n",
    "import numpy as np\n",
    "import seaborn as sns\n",
    "import matplotlib.pyplot as plt\n",
    "\n",
    "from sklearn.model_selection import TimeSeriesSplit\n",
    "from sklearn.model_selection import cross_validate\n",
    "from sklearn.model_selection import GridSearchCV\n",
    "\n",
    "from sklearn.compose import ColumnTransformer\n",
    "from sklearn.pipeline import Pipeline\n",
    "from sklearn.impute import KNNImputer\n",
    "from sklearn.impute import SimpleImputer\n",
    "from sklearn.preprocessing import StandardScaler\n",
    "from sklearn.preprocessing import OneHotEncoder\n",
    "\n",
    "from sklearn.cluster import DBSCAN\n",
    "from sklearn.neighbors import NearestNeighbors\n",
    "\n",
    "from sklearn.metrics import PredictionErrorDisplay\n",
    "from sklearn.metrics import RocCurveDisplay\n",
    "from sklearn.metrics import silhouette_score"
   ]
  },
  {
   "cell_type": "code",
   "execution_count": 50,
   "metadata": {},
   "outputs": [
    {
     "name": "stderr",
     "output_type": "stream",
     "text": [
      "C:\\Users\\vanes\\AppData\\Local\\Temp\\ipykernel_28648\\3729371108.py:1: DtypeWarning: Columns (20) have mixed types. Specify dtype option on import or set low_memory=False.\n",
      "  df = pd.read_csv('db_criminalBehaviour.csv', sep='\\t')\n"
     ]
    },
    {
     "name": "stdout",
     "output_type": "stream",
     "text": [
      "<class 'pandas.core.frame.DataFrame'>\n",
      "RangeIndex: 90086 entries, 0 to 90085\n",
      "Data columns (total 34 columns):\n",
      " #   Column                   Non-Null Count  Dtype  \n",
      "---  ------                   --------------  -----  \n",
      " 0   neighbourhood            90046 non-null  object \n",
      " 1   urban_facility           44012 non-null  object \n",
      " 2   flag_urban_facility      90086 non-null  object \n",
      " 3   flag_flagrant            90086 non-null  object \n",
      " 4   street_name              90051 non-null  object \n",
      " 5   flag_civil_protection_1  90086 non-null  int64  \n",
      " 6   problem_type_1           90086 non-null  object \n",
      " 7   flag_civil_protection_2  5717 non-null   float64\n",
      " 8   problem_type_2           5717 non-null   object \n",
      " 9   flag_civil_protection_3  465 non-null    float64\n",
      " 10  problem_type_3           465 non-null    object \n",
      " 11  flag_civil_protection_4  77 non-null     float64\n",
      " 12  problem_type_4           77 non-null     object \n",
      " 13  flag_civil_protection_5  21 non-null     float64\n",
      " 14  problem_type_5           21 non-null     object \n",
      " 15  problem_subtype_1        68981 non-null  object \n",
      " 16  problem_subtype_2        3493 non-null   object \n",
      " 17  problem_subtype_3        246 non-null    object \n",
      " 18  problem_subtype_4        36 non-null     object \n",
      " 19  problem_subtype_5        3 non-null      object \n",
      " 20  year                     90086 non-null  int64  \n",
      " 21  date                     90086 non-null  object \n",
      " 22  week_day                 90086 non-null  object \n",
      " 23  time                     90086 non-null  int64  \n",
      " 24  month                    90086 non-null  int64  \n",
      " 25  operation_name           65858 non-null  object \n",
      " 26  call_origin              90086 non-null  object \n",
      " 27  regional_name            90083 non-null  object \n",
      " 28  office_name              90086 non-null  object \n",
      " 29  office_abbreviation      90086 non-null  object \n",
      " 30  service_name             90086 non-null  object \n",
      " 31  team_situation           62381 non-null  object \n",
      " 32  156_protocol_number      1137 non-null   float64\n",
      " 33  day                      90086 non-null  int64  \n",
      "dtypes: float64(5), int64(5), object(24)\n",
      "memory usage: 23.4+ MB\n"
     ]
    }
   ],
   "source": [
    "df = pd.read_csv('db_criminalBehaviour.csv', sep='\\t')\n",
    "df.drop(['categories', 'Unnamed: 0'], axis=1, inplace=True)\n",
    "\n",
    "df.info()"
   ]
  },
  {
   "cell_type": "code",
   "execution_count": 51,
   "metadata": {},
   "outputs": [],
   "source": [
    "columns2keep = ['neighbourhood', 'flag_civil_protection_1',\n",
    "       'problem_type_1', 'year', 'week_day',\n",
    "       'month', 'day']\n",
    "\n",
    "df = df.loc[:,columns2keep]"
   ]
  },
  {
   "cell_type": "code",
   "execution_count": 52,
   "metadata": {},
   "outputs": [
    {
     "name": "stdout",
     "output_type": "stream",
     "text": [
      "<class 'pandas.core.frame.DataFrame'>\n",
      "RangeIndex: 90086 entries, 0 to 90085\n",
      "Data columns (total 7 columns):\n",
      " #   Column                   Non-Null Count  Dtype \n",
      "---  ------                   --------------  ----- \n",
      " 0   neighbourhood            90046 non-null  object\n",
      " 1   flag_civil_protection_1  90086 non-null  int64 \n",
      " 2   problem_type_1           90086 non-null  object\n",
      " 3   year                     90086 non-null  int64 \n",
      " 4   week_day                 90086 non-null  object\n",
      " 5   month                    90086 non-null  int64 \n",
      " 6   day                      90086 non-null  int64 \n",
      "dtypes: int64(4), object(3)\n",
      "memory usage: 4.8+ MB\n"
     ]
    }
   ],
   "source": [
    "df.info()"
   ]
  },
  {
   "cell_type": "code",
   "execution_count": 53,
   "metadata": {},
   "outputs": [],
   "source": [
    "num_features = ['year', 'month', 'day']\n",
    "cat_features = ['problem_type_1', 'neighbourhood', 'week_day']"
   ]
  },
  {
   "cell_type": "code",
   "execution_count": 54,
   "metadata": {},
   "outputs": [],
   "source": [
    "numeric_transformer = Pipeline(steps=[\n",
    "    ('imputer', KNNImputer(n_neighbors=4)),\n",
    "    ('scaler', StandardScaler())])\n",
    "\n",
    "categorical_transformer = Pipeline(steps=[\n",
    "    ('imputer', SimpleImputer(strategy='constant', fill_value='missing')),\n",
    "    ('onehot', OneHotEncoder(handle_unknown='ignore'))])\n",
    "\n",
    "preprocessor = ColumnTransformer(\n",
    "    transformers=[\n",
    "        ('num', numeric_transformer, num_features),\n",
    "        ('cat', categorical_transformer, cat_features)])"
   ]
  },
  {
   "cell_type": "code",
   "execution_count": 55,
   "metadata": {},
   "outputs": [],
   "source": [
    "prepr = preprocessor.fit(df)"
   ]
  },
  {
   "cell_type": "code",
   "execution_count": 56,
   "metadata": {},
   "outputs": [],
   "source": [
    "df = prepr.transform(df)"
   ]
  },
  {
   "cell_type": "code",
   "execution_count": 61,
   "metadata": {},
   "outputs": [],
   "source": [
    "# set min_samples to N_features * 2\n",
    "db = DBSCAN(eps=0.3, min_samples=14).fit(df)\n",
    "\n",
    "labels = db.labels_"
   ]
  },
  {
   "cell_type": "code",
   "execution_count": 62,
   "metadata": {},
   "outputs": [
    {
     "data": {
      "text/plain": [
       "array([-1,  0,  1,  2,  3,  4,  5,  6,  7], dtype=int64)"
      ]
     },
     "execution_count": 62,
     "metadata": {},
     "output_type": "execute_result"
    }
   ],
   "source": [
    "np.unique(labels)"
   ]
  },
  {
   "cell_type": "code",
   "execution_count": 63,
   "metadata": {},
   "outputs": [
    {
     "name": "stdout",
     "output_type": "stream",
     "text": [
      "Estimated number of clusters: 8\n",
      "Estimated number of noise points: 89953\n"
     ]
    }
   ],
   "source": [
    "# Number of clusters in labels, ignoring noise if present.\n",
    "n_clusters_ = len(set(labels)) - (1 if -1 in labels else 0)\n",
    "n_noise_ = list(labels).count(-1)\n",
    "\n",
    "print(\"Estimated number of clusters: %d\" % n_clusters_)\n",
    "print(\"Estimated number of noise points: %d\" % n_noise_)"
   ]
  },
  {
   "cell_type": "code",
   "execution_count": 64,
   "metadata": {},
   "outputs": [
    {
     "data": {
      "text/plain": [
       "-0.24879331805281502"
      ]
     },
     "execution_count": 64,
     "metadata": {},
     "output_type": "execute_result"
    }
   ],
   "source": [
    "silhouette_score(df,labels)"
   ]
  },
  {
   "cell_type": "code",
   "execution_count": null,
   "metadata": {},
   "outputs": [],
   "source": [
    "nearest_neighbors = NearestNeighbors(n_neighbors=14)\n",
    "neighbors = nearest_neighbors.fit(df)\n",
    "\n",
    "distances, indices = neighbors.kneighbors(df)\n",
    "distances = np.sort(distances[:,13], axis=0)\n",
    "\n",
    "fig = plt.figure(figsize=(5, 5))\n",
    "plt.plot(distances)\n",
    "plt.xlabel(\"Points\")\n",
    "plt.ylabel(\"Distance\")"
   ]
  }
 ],
 "metadata": {
  "kernelspec": {
   "display_name": "courseML_phd2023",
   "language": "python",
   "name": "python3"
  },
  "language_info": {
   "codemirror_mode": {
    "name": "ipython",
    "version": 3
   },
   "file_extension": ".py",
   "mimetype": "text/x-python",
   "name": "python",
   "nbconvert_exporter": "python",
   "pygments_lexer": "ipython3",
   "version": "3.11.4"
  },
  "orig_nbformat": 4
 },
 "nbformat": 4,
 "nbformat_minor": 2
}
